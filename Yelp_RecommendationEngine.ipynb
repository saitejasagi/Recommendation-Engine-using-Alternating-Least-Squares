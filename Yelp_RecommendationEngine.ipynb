{
 "cells": [
  {
   "cell_type": "code",
   "execution_count": 1,
   "metadata": {},
   "outputs": [],
   "source": [
    "#Initialize spark session\n",
    "import findspark\n",
    "findspark.init()\n",
    "import pyspark\n",
    "from pyspark.sql import SparkSession \n",
    "spark=pyspark.SparkContext(appName=\"test\")\n",
    "sc = spark.getOrCreate()\n",
    "spark = SparkSession(sc)"
   ]
  },
  {
   "cell_type": "code",
   "execution_count": 2,
   "metadata": {},
   "outputs": [],
   "source": [
    "#import all the necessary libraries from Spark ML Library\n",
    "from pyspark.sql.functions import monotonically_increasing_id\n",
    "from pyspark.sql.functions import min, avg\n",
    "from pyspark.ml.recommendation import ALS\n",
    "from pyspark.ml.evaluation import RegressionEvaluator"
   ]
  },
  {
   "cell_type": "markdown",
   "metadata": {},
   "source": [
    "Read the Yelp Reviews data in Json format to spark RDD"
   ]
  },
  {
   "cell_type": "code",
   "execution_count": 3,
   "metadata": {},
   "outputs": [],
   "source": [
    "data_review = spark.read.json(\"C:\\\\Users\\\\tejan\\\\Downloads\\\\practicedata\\\\yelp-dataset\\\\yelp_academic_dataset_review.json\")"
   ]
  },
  {
   "cell_type": "code",
   "execution_count": 4,
   "metadata": {},
   "outputs": [
    {
     "name": "stdout",
     "output_type": "stream",
     "text": [
      "+--------------------+----+-------------------+-----+--------------------+-----+--------------------+------+--------------------+\n",
      "|         business_id|cool|               date|funny|           review_id|stars|                text|useful|             user_id|\n",
      "+--------------------+----+-------------------+-----+--------------------+-----+--------------------+------+--------------------+\n",
      "|-MhfebM0QIsKt87iD...|   0|2015-04-15 05:21:16|    0|xQY8N_XvtGbearJ5X...|  2.0|As someone who ha...|     5|OwjRMXRC0KyPrIlcj...|\n",
      "|lbrU8StCq3yDfr-QM...|   0|2013-12-07 03:16:52|    1|UmFMZ8PyXZTY2Qcwz...|  1.0|I am actually hor...|     1|nIJD_7ZXHq-FX8byP...|\n",
      "|HQl28KMwrEKHqhFrr...|   0|2015-12-05 03:18:11|    0|LG2ZaYiOgpr2DK_90...|  5.0|I love Deagan's. ...|     1|V34qejxNsCbcgD8C0...|\n",
      "|5JxlZaqCnk1MnbgRi...|   0|2011-05-27 05:30:52|    0|i6g_oA9Yf9Y31qt0w...|  1.0|Dismal, lukewarm,...|     0|ofKDkJKXSKZXu5xJN...|\n",
      "|IS4cv902ykd8wj1TR...|   0|2017-01-14 21:56:57|    0|6TdNDKywdbjoTkize...|  4.0|Oh happy day, fin...|     0|UgMW8bLE0QMJDCkQ1...|\n",
      "+--------------------+----+-------------------+-----+--------------------+-----+--------------------+------+--------------------+\n",
      "only showing top 5 rows\n",
      "\n"
     ]
    }
   ],
   "source": [
    "#show the top 5 rows in the data\n",
    "data_review.show(5)"
   ]
  },
  {
   "cell_type": "code",
   "execution_count": 5,
   "metadata": {},
   "outputs": [
    {
     "data": {
      "text/plain": [
       "['business_id',\n",
       " 'cool',\n",
       " 'date',\n",
       " 'funny',\n",
       " 'review_id',\n",
       " 'stars',\n",
       " 'text',\n",
       " 'useful',\n",
       " 'user_id']"
      ]
     },
     "execution_count": 5,
     "metadata": {},
     "output_type": "execute_result"
    }
   ],
   "source": [
    "#The names of the columns in the data\n",
    "data_review.columns"
   ]
  },
  {
   "cell_type": "code",
   "execution_count": 5,
   "metadata": {},
   "outputs": [
    {
     "data": {
      "text/plain": [
       "8021122"
      ]
     },
     "execution_count": 5,
     "metadata": {},
     "output_type": "execute_result"
    }
   ],
   "source": [
    "#count of the rows in the data\n",
    "data_review.count()"
   ]
  },
  {
   "cell_type": "code",
   "execution_count": 6,
   "metadata": {},
   "outputs": [
    {
     "data": {
      "text/plain": [
       "['user_id', 'business_id', 'stars']"
      ]
     },
     "execution_count": 6,
     "metadata": {},
     "output_type": "execute_result"
    }
   ],
   "source": [
    "#First select only the relevant columns, user id, business id and the rating columns\n",
    "data_review = data_review.select(\"user_id\", \"business_id\", \"stars\")\n",
    "data_review.columns"
   ]
  },
  {
   "cell_type": "code",
   "execution_count": 7,
   "metadata": {},
   "outputs": [
    {
     "name": "stdout",
     "output_type": "stream",
     "text": [
      "+--------------------+-----+\n",
      "|             user_id|count|\n",
      "+--------------------+-----+\n",
      "|KWFiZKiZBANVxuhm4...|    7|\n",
      "|VmYpF5C3GL-7wFnvO...|    5|\n",
      "|1Dul59QEe-Q-7OQHT...|    8|\n",
      "|xS6kmkMXp0PRrFwkS...|   19|\n",
      "|j56G3m8vYtA_2Io6F...|   36|\n",
      "|ruHz-qN-j21kg0iyI...|    1|\n",
      "|M6-A6F0B3kM5i94Kr...|   13|\n",
      "|z2Gi5vo-8j544qN_g...|    4|\n",
      "|CzkWUMIYDxUSetfCR...|   17|\n",
      "|Uf_TVv1Z4s024jdI4...|   16|\n",
      "|zWWcik1fRPZviBCQL...|  411|\n",
      "|zEpzcYlc1wQ4YJtFF...|    5|\n",
      "|4ZfcCa4m5RWvO4EFz...|   40|\n",
      "|QSWr7Oivp0mClj_PR...|   12|\n",
      "|FuSn5ZxN2NV_PpK03...|   46|\n",
      "|T_ReHc3TRnOw9h1qf...|    2|\n",
      "|7o473jeLWW-zgKN-Q...|    9|\n",
      "|ucpIv1E0x8IhxeLGD...|    9|\n",
      "|ouvhv-E3S57SQ4ser...|    8|\n",
      "|kAxgIZA-kSCKDy6EP...|    6|\n",
      "+--------------------+-----+\n",
      "only showing top 20 rows\n",
      "\n"
     ]
    }
   ],
   "source": [
    "#Lets see how can we see how many businesses an user has rated. Lets see the top 20 such rows\n",
    "data_review.groupBy(\"user_id\").count().show()"
   ]
  },
  {
   "cell_type": "markdown",
   "metadata": {},
   "source": [
    "Converting user_id and business_id to numeric variables so that they can be used in ALS algorithm"
   ]
  },
  {
   "cell_type": "code",
   "execution_count": 7,
   "metadata": {},
   "outputs": [
    {
     "name": "stdout",
     "output_type": "stream",
     "text": [
      "+--------------------+------+\n",
      "|             user_id|userId|\n",
      "+--------------------+------+\n",
      "|KWFiZKiZBANVxuhm4...|     0|\n",
      "|VmYpF5C3GL-7wFnvO...|     1|\n",
      "|1Dul59QEe-Q-7OQHT...|     2|\n",
      "|xS6kmkMXp0PRrFwkS...|     3|\n",
      "|j56G3m8vYtA_2Io6F...|     4|\n",
      "|ruHz-qN-j21kg0iyI...|     5|\n",
      "|M6-A6F0B3kM5i94Kr...|     6|\n",
      "|z2Gi5vo-8j544qN_g...|     7|\n",
      "|CzkWUMIYDxUSetfCR...|     8|\n",
      "|Uf_TVv1Z4s024jdI4...|     9|\n",
      "|zWWcik1fRPZviBCQL...|    10|\n",
      "|zEpzcYlc1wQ4YJtFF...|    11|\n",
      "|4ZfcCa4m5RWvO4EFz...|    12|\n",
      "|QSWr7Oivp0mClj_PR...|    13|\n",
      "|FuSn5ZxN2NV_PpK03...|    14|\n",
      "|T_ReHc3TRnOw9h1qf...|    15|\n",
      "|7o473jeLWW-zgKN-Q...|    16|\n",
      "|ucpIv1E0x8IhxeLGD...|    17|\n",
      "|ouvhv-E3S57SQ4ser...|    18|\n",
      "|kAxgIZA-kSCKDy6EP...|    19|\n",
      "+--------------------+------+\n",
      "only showing top 20 rows\n",
      "\n"
     ]
    }
   ],
   "source": [
    "#extract unique users_ids from the data\n",
    "users = data_review.select(\"user_id\").distinct().coalesce(1)\n",
    "#create a unique numerical id corresponding to the user_id\n",
    "users = users.withColumn(\"userId\", monotonically_increasing_id()).persist()\n",
    "users.show()"
   ]
  },
  {
   "cell_type": "code",
   "execution_count": 8,
   "metadata": {},
   "outputs": [],
   "source": [
    "#extract unique business_ids from the data\n",
    "business = data_review.select(\"business_id\").distinct().coalesce(1) \n",
    "#create a unique numerical id corresponding to the business_id\n",
    "business = business.withColumn(\"businessId\", monotonically_increasing_id()).persist()"
   ]
  },
  {
   "cell_type": "code",
   "execution_count": 9,
   "metadata": {},
   "outputs": [
    {
     "name": "stdout",
     "output_type": "stream",
     "text": [
      "+--------------------+--------------------+-----+------+----------+\n",
      "|         business_id|             user_id|stars|userId|businessId|\n",
      "+--------------------+--------------------+-----+------+----------+\n",
      "|--9e1ONYQuAa-CB_R...|0y8ORuC2X1i1UF6SG...|  5.0|  4812|       596|\n",
      "|--9e1ONYQuAa-CB_R...|3qz_dfwbFwTQeDRzy...|  5.0|   917|       596|\n",
      "|--9e1ONYQuAa-CB_R...|9spixZHaqC1JeN1ld...|  2.0|   315|       596|\n",
      "|--9e1ONYQuAa-CB_R...|A4GnBOU7ZCTcoQK4e...|  5.0|  7867|       596|\n",
      "|--9e1ONYQuAa-CB_R...|FtUDjNLhVjlIoeFKm...|  4.0|   483|       596|\n",
      "|--9e1ONYQuAa-CB_R...|H0tfWQsGjEBuhXD4W...|  5.0|   151|       596|\n",
      "|--9e1ONYQuAa-CB_R...|R0KVWeN9xR-F6j4z5...|  4.0|   155|       596|\n",
      "|--9e1ONYQuAa-CB_R...|XZaCs-Gs0SXdZgfG3...|  4.0|  3069|       596|\n",
      "|--9e1ONYQuAa-CB_R...|dSGINC_8KV6fxNjeQ...|  5.0|  7920|       596|\n",
      "|--9e1ONYQuAa-CB_R...|n9DJHwgYflQ_ms8gB...|  3.0|   796|       596|\n",
      "|--9e1ONYQuAa-CB_R...|ucXjnxiEKLUOEktHF...|  5.0|   720|       596|\n",
      "|--9e1ONYQuAa-CB_R...|xOSVPzpIDSd3-2r6k...|  5.0|  7872|       596|\n",
      "|--9e1ONYQuAa-CB_R...|-7hnKm0I8detrDCgs...|  5.0| 17575|       596|\n",
      "|--9e1ONYQuAa-CB_R...|1rlB-SWvDU5TnDnym...|  5.0| 10302|       596|\n",
      "|--9e1ONYQuAa-CB_R...|KGcyC9KXloxW_6YMG...|  4.0| 11121|       596|\n",
      "|--9e1ONYQuAa-CB_R...|MFaazTdvfJ_aa6coa...|  5.0| 10948|       596|\n",
      "|--9e1ONYQuAa-CB_R...|jHHRH62tCYNZnh85u...|  4.0| 10472|       596|\n",
      "|--9e1ONYQuAa-CB_R...|oqTZC9WriodTCby6j...|  3.0| 10186|       596|\n",
      "|--9e1ONYQuAa-CB_R...|5g9q0NUQ-72wzitIz...|  2.0| 27759|       596|\n",
      "|--9e1ONYQuAa-CB_R...|9C5QkwIcxyE4SgR1E...|  2.0| 27576|       596|\n",
      "+--------------------+--------------------+-----+------+----------+\n",
      "only showing top 20 rows\n",
      "\n"
     ]
    }
   ],
   "source": [
    "# Join the ratings, users and business dataframes\n",
    "data_review_final = data_review.join(users, \"user_id\", \"left\").join(business, \"business_id\", \"left\")\n",
    "data_review_final.show()"
   ]
  },
  {
   "cell_type": "code",
   "execution_count": 10,
   "metadata": {},
   "outputs": [],
   "source": [
    "#Only subset the numeric userId, businessId and the ratings columns\n",
    "data_review_final = data_review_final.select(\"userId\", \"businessId\", \"stars\")"
   ]
  },
  {
   "cell_type": "code",
   "execution_count": 12,
   "metadata": {},
   "outputs": [
    {
     "name": "stdout",
     "output_type": "stream",
     "text": [
      "+------+----------+-----+\n",
      "|userId|businessId|stars|\n",
      "+------+----------+-----+\n",
      "|  6940|    139342|  4.0|\n",
      "|  4005|    200136|  2.0|\n",
      "|  6146|     83897|  4.0|\n",
      "|  2444|    125200|  5.0|\n",
      "|  2444|    166557|  5.0|\n",
      "|  2444|    193213|  1.0|\n",
      "|  2444|     43351|  1.0|\n",
      "|  2444|    116689|  1.0|\n",
      "|  1803|     83483|  5.0|\n",
      "|  1803|    175882|  4.0|\n",
      "|  1803|    180283|  1.0|\n",
      "|  1803|    121169|  5.0|\n",
      "|  1803|     78008|  3.0|\n",
      "|  1803|     22618|  5.0|\n",
      "|  6431|    121362|  5.0|\n",
      "|  3439|     40680|  5.0|\n",
      "|  3439|    113848|  5.0|\n",
      "|  3439|     97782|  5.0|\n",
      "|  3439|     63399|  5.0|\n",
      "|  3439|    192453|  5.0|\n",
      "+------+----------+-----+\n",
      "only showing top 20 rows\n",
      "\n"
     ]
    }
   ],
   "source": [
    "data_review_final.show()"
   ]
  },
  {
   "cell_type": "code",
   "execution_count": 11,
   "metadata": {},
   "outputs": [],
   "source": [
    "data_review = data_review_final.limit(500)"
   ]
  },
  {
   "cell_type": "markdown",
   "metadata": {},
   "source": [
    "Calculate Matrix sparsity"
   ]
  },
  {
   "cell_type": "code",
   "execution_count": 13,
   "metadata": {},
   "outputs": [
    {
     "name": "stdout",
     "output_type": "stream",
     "text": [
      "The yelp_reviews dataframe is  99.101688825% empty.\n"
     ]
    }
   ],
   "source": [
    "#numerator is the count of total  number of ratings given\n",
    "numerator = data_review.select(\"stars\").count()\n",
    "\n",
    "#we need to multiply the count of total unique users and unique businesses\n",
    "unique_users = data_review.select(\"userId\").distinct().count()\n",
    "unique_business = data_review.select(\"businessId\").distinct().count()\n",
    "\n",
    "denominator = unique_users*unique_business\n",
    "\n",
    "#sparsity calculation\n",
    "sparsity = (1.0 - (numerator *1.0)/denominator)*100\n",
    "print(\"The yelp_reviews dataframe is \", \"%.9f\" % sparsity + \"% empty.\")"
   ]
  },
  {
   "cell_type": "code",
   "execution_count": 14,
   "metadata": {},
   "outputs": [
    {
     "name": "stdout",
     "output_type": "stream",
     "text": [
      "Business with the fewest ratings: \n",
      "+----------+\n",
      "|min(count)|\n",
      "+----------+\n",
      "|         1|\n",
      "+----------+\n",
      "\n",
      "Avg num ratings per Business: \n",
      "+------------------+\n",
      "|        avg(count)|\n",
      "+------------------+\n",
      "|1.0330578512396693|\n",
      "+------------------+\n",
      "\n",
      "User with the fewest ratings: \n",
      "+----------+\n",
      "|min(count)|\n",
      "+----------+\n",
      "|         1|\n",
      "+----------+\n",
      "\n",
      "Avg num ratings per user: \n",
      "+------------------+\n",
      "|        avg(count)|\n",
      "+------------------+\n",
      "|4.3478260869565215|\n",
      "+------------------+\n",
      "\n"
     ]
    }
   ],
   "source": [
    "# Find the business with fewest ratings. Group by business_id and find the minimum number of ratings\n",
    "print(\"Business with the fewest ratings: \")\n",
    "data_review.groupBy(\"businessId\").count().select(min(\"count\")).show()\n",
    "\n",
    "# Avg num ratings per business\n",
    "print(\"Avg num ratings per Business: \")\n",
    "data_review.groupBy(\"businessId\").count().select(avg(\"count\")).show()\n",
    "\n",
    "# Min num ratings for user\n",
    "print(\"User with the fewest ratings: \")\n",
    "data_review.groupBy(\"userId\").count().select(min(\"count\")).show()\n",
    "\n",
    "# Avg num ratings per users\n",
    "print(\"Avg num ratings per user: \")\n",
    "data_review.groupBy(\"userId\").count().select(avg(\"count\")).show()"
   ]
  },
  {
   "cell_type": "code",
   "execution_count": 12,
   "metadata": {},
   "outputs": [
    {
     "name": "stdout",
     "output_type": "stream",
     "text": [
      "root\n",
      " |-- userId: long (nullable = true)\n",
      " |-- businessId: long (nullable = true)\n",
      " |-- stars: double (nullable = true)\n",
      "\n"
     ]
    }
   ],
   "source": [
    "#print the schema of the RDD\n",
    "data_review.printSchema()"
   ]
  },
  {
   "cell_type": "code",
   "execution_count": 13,
   "metadata": {},
   "outputs": [
    {
     "name": "stdout",
     "output_type": "stream",
     "text": [
      "root\n",
      " |-- userId: integer (nullable = true)\n",
      " |-- businessId: integer (nullable = true)\n",
      " |-- stars: double (nullable = true)\n",
      "\n"
     ]
    }
   ],
   "source": [
    "#convert the userid and businessid to integer format and ratings to double format\n",
    "data_review = data_review.select(data_review.userId.cast(\"integer\"), data_review.businessId.cast(\"integer\"), data_review.stars.cast(\"double\"))\n",
    "\n",
    "# Call .printSchema() again to confirm the columns are now in the correct format\n",
    "data_review.printSchema()"
   ]
  },
  {
   "cell_type": "markdown",
   "metadata": {},
   "source": [
    "# Modeling - ALS"
   ]
  },
  {
   "cell_type": "markdown",
   "metadata": {},
   "source": [
    "Model 1: Latent vectors = 15, reg parameter = .01, maximum iterations = 20"
   ]
  },
  {
   "cell_type": "code",
   "execution_count": 16,
   "metadata": {},
   "outputs": [
    {
     "name": "stdout",
     "output_type": "stream",
     "text": [
      "+------+----------+-----+----------+\n",
      "|userId|businessId|stars|prediction|\n",
      "+------+----------+-----+----------+\n",
      "|   123|    173512|  5.0|  4.997417|\n",
      "|   123|    173512|  5.0|  4.997417|\n",
      "|  1929|     46356|  5.0|  4.997871|\n",
      "|   123|    185233|  5.0|  4.997417|\n",
      "|  3477|     11742|  5.0| 4.9966435|\n",
      "|   548|     22143|  5.0| 2.2418418|\n",
      "+------+----------+-----+----------+\n",
      "\n"
     ]
    }
   ],
   "source": [
    "#Split the data to training and validation at 80:20 proportion\n",
    "(training_data, test_data) = data_review.randomSplit([0.8, 0.2], seed=123)\n",
    "\n",
    "# Set the ALS hyperparameters. Select 15 latent vectors and select 20 iterations. \n",
    "from pyspark.ml.recommendation import ALS\n",
    "als = ALS(userCol = \"userId\", itemCol = \"businessId\", ratingCol = \"stars\", rank = 15, maxIter = 20, regParam = 0.01,\n",
    "          coldStartStrategy = \"drop\", nonnegative = True, implicitPrefs = False)\n",
    "\n",
    "# Fit the model to the training data\n",
    "model = als.fit(training_data)\n",
    "\n",
    "# Generate predictions on the test data\n",
    "test_predictions = model.transform(test_data)\n",
    "test_predictions.show()"
   ]
  },
  {
   "cell_type": "code",
   "execution_count": 17,
   "metadata": {},
   "outputs": [
    {
     "name": "stdout",
     "output_type": "stream",
     "text": [
      "rmse\n",
      "stars\n",
      "prediction\n"
     ]
    }
   ],
   "source": [
    "# Import RegressionEvaluator\n",
    "from pyspark.ml.evaluation import RegressionEvaluator\n",
    "\n",
    "# Complete the evaluator code. Use RMSE as the evaluation metric\n",
    "evaluator = RegressionEvaluator(metricName=\"rmse\", labelCol=\"stars\", predictionCol=\"prediction\")\n",
    "\n",
    "# Extract the 3 parameters\n",
    "print(evaluator.getMetricName())\n",
    "print(evaluator.getLabelCol())\n",
    "print(evaluator.getPredictionCol())"
   ]
  },
  {
   "cell_type": "code",
   "execution_count": 18,
   "metadata": {},
   "outputs": [
    {
     "name": "stdout",
     "output_type": "stream",
     "text": [
      "1.1260160233737941\n"
     ]
    }
   ],
   "source": [
    "#evaluate RMSE\n",
    "RMSE = evaluator.evaluate(test_predictions)\n",
    "# Print the RMSE\n",
    "print(RMSE)"
   ]
  },
  {
   "cell_type": "markdown",
   "metadata": {},
   "source": [
    "Model 2: Latent Vectors = 15, Maximum iterations = 20, reg parameter = 0.05"
   ]
  },
  {
   "cell_type": "code",
   "execution_count": 19,
   "metadata": {},
   "outputs": [],
   "source": [
    "# Set the ALS hyperparameters. Select 15 latent vectors and select 20 iterations. \n",
    "als2 = ALS(userCol = \"userId\", itemCol = \"businessId\", ratingCol = \"stars\", rank = 15, maxIter = 20, regParam = 0.05,\n",
    "          coldStartStrategy = \"drop\", nonnegative = True, implicitPrefs = False)\n",
    "\n",
    "# Fit the model to the training data\n",
    "model2 = als2.fit(training_data)\n",
    "\n",
    "# Generate predictions on the test data\n",
    "test_predictions2 = model2.transform(test_data)\n"
   ]
  },
  {
   "cell_type": "code",
   "execution_count": 18,
   "metadata": {},
   "outputs": [
    {
     "name": "stdout",
     "output_type": "stream",
     "text": [
      "+------+----------+-----+----------+\n",
      "|userId|businessId|stars|prediction|\n",
      "+------+----------+-----+----------+\n",
      "|   123|    173512|  5.0| 4.9717736|\n",
      "|   123|    173512|  5.0| 4.9717736|\n",
      "|  1929|     46356|  5.0| 4.9639187|\n",
      "|   123|    185233|  5.0| 4.9717736|\n",
      "|  3477|     11742|  5.0|  4.967866|\n",
      "|   548|     22143|  5.0|  2.015633|\n",
      "+------+----------+-----+----------+\n",
      "\n",
      "rmse\n",
      "stars\n",
      "prediction\n",
      "1.218685794906584\n"
     ]
    }
   ],
   "source": [
    "test_predictions2.show()\n",
    "# Complete the evaluator code. Use RMSE as the evaluation metric\n",
    "evaluator2 = RegressionEvaluator(metricName=\"rmse\", labelCol=\"stars\", predictionCol=\"prediction\")\n",
    "\n",
    "# Extract the 3 parameters\n",
    "print(\"The three parameters are : \")\n",
    "print(\" \")\n",
    "print(evaluator2.getMetricName())\n",
    "print(evaluator2.getLabelCol())\n",
    "print(evaluator2.getPredictionCol())\n",
    "print(\" \")\n",
    "\n",
    "#evaluate RMSE\n",
    "RMSE2 = evaluator2.evaluate(test_predictions)\n",
    "# Print the RMSE\n",
    "print(\"The RMSE for this model is :\", RMSE2)"
   ]
  },
  {
   "cell_type": "markdown",
   "metadata": {},
   "source": [
    "Model 3: Latent Vectors = 15, Max iterations = 20, reg parameter = 0.001"
   ]
  },
  {
   "cell_type": "code",
   "execution_count": 20,
   "metadata": {},
   "outputs": [
    {
     "name": "stdout",
     "output_type": "stream",
     "text": [
      "+------+----------+-----+----------+\n",
      "|userId|businessId|stars|prediction|\n",
      "+------+----------+-----+----------+\n",
      "|   123|    173512|  5.0| 4.9997854|\n",
      "|   123|    173512|  5.0| 4.9997854|\n",
      "|  1929|     46356|  5.0|  4.999812|\n",
      "|   123|    185233|  5.0| 4.9997854|\n",
      "|  3477|     11742|  5.0|  4.999905|\n",
      "|   548|     22143|  5.0| 1.5839012|\n",
      "+------+----------+-----+----------+\n",
      "\n",
      "The three parameters are : \n",
      " \n",
      "rmse\n",
      "stars\n",
      "prediction\n",
      " \n",
      "The RMSE for this model is : 1.3946165195630487\n"
     ]
    }
   ],
   "source": [
    "als3 = ALS(userCol = \"userId\", itemCol = \"businessId\", ratingCol = \"stars\", rank = 15, maxIter = 20, regParam = 0.001,\n",
    "          coldStartStrategy = \"drop\", nonnegative = True, implicitPrefs = False)\n",
    "\n",
    "# Fit the model to the training data\n",
    "model3 = als3.fit(training_data)\n",
    "\n",
    "# Generate predictions on the test data\n",
    "test_predictions3 = model3.transform(test_data)\n",
    "\n",
    "test_predictions3.show()\n",
    "\n",
    "# Complete the evaluator code. Use RMSE as the evaluation metric\n",
    "evaluator3 = RegressionEvaluator(metricName=\"rmse\", labelCol=\"stars\", predictionCol=\"prediction\")\n",
    "\n",
    "# Extract the 3 parameters\n",
    "print(\"The three parameters are : \")\n",
    "print(\" \")\n",
    "print(evaluator3.getMetricName())\n",
    "print(evaluator3.getLabelCol())\n",
    "print(evaluator3.getPredictionCol())\n",
    "print(\" \")\n",
    "\n",
    "#evaluate RMSE\n",
    "RMSE3 = evaluator3.evaluate(test_predictions)\n",
    "# Print the RMSE\n",
    "print(\"The RMSE for this model is :\", RMSE3)"
   ]
  },
  {
   "cell_type": "markdown",
   "metadata": {},
   "source": [
    "Model 4: Latent Vectors = 10, Max iterations = 10, reg parameter = 0.01"
   ]
  },
  {
   "cell_type": "code",
   "execution_count": 14,
   "metadata": {},
   "outputs": [
    {
     "name": "stdout",
     "output_type": "stream",
     "text": [
      "The glimpse test predictions are shown in the beslow table\n",
      " \n",
      "+------+----------+-----+----------+\n",
      "|userId|businessId|stars|prediction|\n",
      "+------+----------+-----+----------+\n",
      "|   123|    173512|  5.0| 4.9973364|\n",
      "|   123|    173512|  5.0| 4.9973364|\n",
      "|  1929|     46356|  5.0| 4.9971924|\n",
      "|   123|    185233|  5.0| 4.9973364|\n",
      "|  3477|     11742|  5.0|  4.998615|\n",
      "|   548|     22143|  5.0|  2.845271|\n",
      "+------+----------+-----+----------+\n",
      "\n",
      "The three parameters are : \n",
      " \n",
      "rmse\n",
      "stars\n",
      "prediction\n",
      " \n",
      "The RMSE for this model is : 0.8796673304072976\n"
     ]
    }
   ],
   "source": [
    "\n",
    "# Set the ALS hyperparameters. Select 10 latent vectors and select 10 iterations. \n",
    "from pyspark.ml.recommendation import ALS\n",
    "als4 = ALS(userCol = \"userId\", itemCol = \"businessId\", ratingCol = \"stars\", rank = 10, maxIter = 10, regParam = 0.01,\n",
    "          coldStartStrategy = \"drop\", nonnegative = True, implicitPrefs = False)\n",
    "\n",
    "# Fit the model to the training data\n",
    "model4 = als4.fit(training_data)\n",
    "\n",
    "# Generate predictions on the test data\n",
    "test_predictions4 = model4.transform(test_data)\n",
    "\n",
    "print(\"The glimpse test predictions are shown in the beslow table\")\n",
    "print(\" \")\n",
    "test_predictions4.show()\n",
    "\n",
    "\n",
    "evaluator4 = RegressionEvaluator(metricName=\"rmse\", labelCol=\"stars\", predictionCol=\"prediction\")\n",
    "\n",
    "# Extract the 3 parameters\n",
    "print(\"The three parameters are : \")\n",
    "print(\" \")\n",
    "print(evaluator4.getMetricName())\n",
    "print(evaluator4.getLabelCol())\n",
    "print(evaluator4.getPredictionCol())\n",
    "print(\" \")\n",
    "\n",
    "#evaluate RMSE\n",
    "RMSE4 = evaluator4.evaluate(test_predictions)\n",
    "# Print the RMSE\n",
    "print(\"The RMSE for this model is :\", RMSE4)"
   ]
  },
  {
   "cell_type": "markdown",
   "metadata": {},
   "source": [
    "Model 5: Latent Vectors = 15, Max iterations = 10, reg parameter = 0.01"
   ]
  },
  {
   "cell_type": "code",
   "execution_count": 16,
   "metadata": {},
   "outputs": [
    {
     "name": "stdout",
     "output_type": "stream",
     "text": [
      "The glimpse test predictions are shown in the beslow table\n",
      " \n",
      "+------+----------+-----+----------+\n",
      "|userId|businessId|stars|prediction|\n",
      "+------+----------+-----+----------+\n",
      "|   123|    173512|  5.0|  4.997821|\n",
      "|   123|    173512|  5.0|  4.997821|\n",
      "|  1929|     46356|  5.0| 4.9968524|\n",
      "|   123|    185233|  5.0|  4.997821|\n",
      "|  3477|     11742|  5.0| 4.9973073|\n",
      "|   548|     22143|  5.0| 1.3190264|\n",
      "+------+----------+-----+----------+\n",
      "\n",
      "The three parameters are : \n",
      " \n",
      "rmse\n",
      "stars\n",
      "prediction\n",
      " \n",
      "The RMSE for this model is : 1.5027529409317795\n"
     ]
    }
   ],
   "source": [
    "# Set the ALS hyperparameters. Select 10 latent vectors and select 15 iterations. \n",
    "\n",
    "als5 = ALS(userCol = \"userId\", itemCol = \"businessId\", ratingCol = \"stars\", rank = 15, maxIter = 10, regParam = 0.01,\n",
    "          coldStartStrategy = \"drop\", nonnegative = True, implicitPrefs = False)\n",
    "\n",
    "# Fit the model to the training data\n",
    "model5 = als5.fit(training_data)\n",
    "\n",
    "# Generate predictions on the test data\n",
    "test_predictions5 = model5.transform(test_data)\n",
    "\n",
    "print(\"The glimpse test predictions are shown in the below table\")\n",
    "print(\" \")\n",
    "test_predictions5.show()\n",
    "\n",
    "# Complete the evaluator code. Use RMSE as the evaluation metric\n",
    "evaluator5 = RegressionEvaluator(metricName=\"rmse\", labelCol=\"stars\", predictionCol=\"prediction\")\n",
    "\n",
    "# Extract the 3 parameters\n",
    "print(\"The three parameters are : \")\n",
    "print(\" \")\n",
    "print(evaluator5.getMetricName())\n",
    "print(evaluator5.getLabelCol())\n",
    "print(evaluator5.getPredictionCol())\n",
    "print(\" \")\n",
    "\n",
    "#evaluate RMSE\n",
    "RMSE5 = evaluator5.evaluate(test_predictions)\n",
    "# Print the RMSE\n",
    "print(\"The RMSE for this model is :\", RMSE5)"
   ]
  },
  {
   "cell_type": "code",
   "execution_count": null,
   "metadata": {},
   "outputs": [],
   "source": []
  }
 ],
 "metadata": {
  "kernelspec": {
   "display_name": "Python 3",
   "language": "python",
   "name": "python3"
  },
  "language_info": {
   "codemirror_mode": {
    "name": "ipython",
    "version": 3
   },
   "file_extension": ".py",
   "mimetype": "text/x-python",
   "name": "python",
   "nbconvert_exporter": "python",
   "pygments_lexer": "ipython3",
   "version": "3.7.3"
  }
 },
 "nbformat": 4,
 "nbformat_minor": 2
}
